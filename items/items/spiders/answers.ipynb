{
 "cells": [
  {
   "attachments": {},
   "cell_type": "markdown",
   "metadata": {},
   "source": [
    "#### Répondre aux questions suivantes en utilisant uniquement pymongo (l’objectif est d’apprendre la syntaxe pour intéragir avec un BDD MongoDB) :\n"
   ]
  },
  {
   "cell_type": "code",
   "execution_count": 2,
   "metadata": {},
   "outputs": [],
   "source": [
    "# Quel est le film le plus long ?\n",
    "import pymongo\n",
    "from pymongo import MongoClient\n",
    "import streamlit as st\n",
    "\n",
    "# Create a MongoClient instance\n",
    "client = MongoClient()\n",
    "\n",
    "# Connect to the \"imdb\" database and \"movies\" collection\n",
    "db = client.imdb\n",
    "movies = db.movies"
   ]
  },
  {
   "cell_type": "code",
   "execution_count": 4,
   "metadata": {},
   "outputs": [
    {
     "ename": "ServerSelectionTimeoutError",
     "evalue": "localhost:27017: [Errno 111] Connection refused, Timeout: 30s, Topology Description: <TopologyDescription id: 643ead6bbe9f29507db31195, topology_type: Unknown, servers: [<ServerDescription ('localhost', 27017) server_type: Unknown, rtt: None, error=AutoReconnect('localhost:27017: [Errno 111] Connection refused')>]>",
     "output_type": "error",
     "traceback": [
      "\u001b[0;31m---------------------------------------------------------------------------\u001b[0m",
      "\u001b[0;31mServerSelectionTimeoutError\u001b[0m               Traceback (most recent call last)",
      "Cell \u001b[0;32mIn[4], line 7\u001b[0m\n\u001b[1;32m      3\u001b[0m top_movies \u001b[39m=\u001b[39m movies\u001b[39m.\u001b[39mfind()\u001b[39m.\u001b[39msort([(\u001b[39m\"\u001b[39m\u001b[39mimdb.score\u001b[39m\u001b[39m\"\u001b[39m, pymongo\u001b[39m.\u001b[39mDESCENDING)])\u001b[39m.\u001b[39mlimit(\u001b[39m1\u001b[39m)\n\u001b[1;32m      5\u001b[0m \u001b[39m# imprimer les titres des 5 films les mieux notés\u001b[39;00m\n\u001b[0;32m----> 7\u001b[0m \u001b[39mfor\u001b[39;00m movie \u001b[39min\u001b[39;00m top_movies:\n\u001b[1;32m      8\u001b[0m     \u001b[39mprint\u001b[39m(movie[\u001b[39m\"\u001b[39m\u001b[39mtitle\u001b[39m\u001b[39m\"\u001b[39m])\n",
      "File \u001b[0;32m~/miniconda3/envs/scrapyenv/lib/python3.11/site-packages/pymongo/cursor.py:1248\u001b[0m, in \u001b[0;36mCursor.next\u001b[0;34m(self)\u001b[0m\n\u001b[1;32m   1246\u001b[0m \u001b[39mif\u001b[39;00m \u001b[39mself\u001b[39m\u001b[39m.\u001b[39m__empty:\n\u001b[1;32m   1247\u001b[0m     \u001b[39mraise\u001b[39;00m \u001b[39mStopIteration\u001b[39;00m\n\u001b[0;32m-> 1248\u001b[0m \u001b[39mif\u001b[39;00m \u001b[39mlen\u001b[39m(\u001b[39mself\u001b[39m\u001b[39m.\u001b[39m__data) \u001b[39mor\u001b[39;00m \u001b[39mself\u001b[39m\u001b[39m.\u001b[39m_refresh():\n\u001b[1;32m   1249\u001b[0m     \u001b[39mreturn\u001b[39;00m \u001b[39mself\u001b[39m\u001b[39m.\u001b[39m__data\u001b[39m.\u001b[39mpopleft()\n\u001b[1;32m   1250\u001b[0m \u001b[39melse\u001b[39;00m:\n",
      "File \u001b[0;32m~/miniconda3/envs/scrapyenv/lib/python3.11/site-packages/pymongo/cursor.py:1139\u001b[0m, in \u001b[0;36mCursor._refresh\u001b[0;34m(self)\u001b[0m\n\u001b[1;32m   1136\u001b[0m     \u001b[39mreturn\u001b[39;00m \u001b[39mlen\u001b[39m(\u001b[39mself\u001b[39m\u001b[39m.\u001b[39m__data)\n\u001b[1;32m   1138\u001b[0m \u001b[39mif\u001b[39;00m \u001b[39mnot\u001b[39;00m \u001b[39mself\u001b[39m\u001b[39m.\u001b[39m__session:\n\u001b[0;32m-> 1139\u001b[0m     \u001b[39mself\u001b[39m\u001b[39m.\u001b[39m__session \u001b[39m=\u001b[39m \u001b[39mself\u001b[39m\u001b[39m.\u001b[39m__collection\u001b[39m.\u001b[39mdatabase\u001b[39m.\u001b[39mclient\u001b[39m.\u001b[39m_ensure_session()\n\u001b[1;32m   1141\u001b[0m \u001b[39mif\u001b[39;00m \u001b[39mself\u001b[39m\u001b[39m.\u001b[39m__id \u001b[39mis\u001b[39;00m \u001b[39mNone\u001b[39;00m:  \u001b[39m# Query\u001b[39;00m\n\u001b[1;32m   1142\u001b[0m     \u001b[39mif\u001b[39;00m (\u001b[39mself\u001b[39m\u001b[39m.\u001b[39m__min \u001b[39mor\u001b[39;00m \u001b[39mself\u001b[39m\u001b[39m.\u001b[39m__max) \u001b[39mand\u001b[39;00m \u001b[39mnot\u001b[39;00m \u001b[39mself\u001b[39m\u001b[39m.\u001b[39m__hint:\n",
      "File \u001b[0;32m~/miniconda3/envs/scrapyenv/lib/python3.11/site-packages/pymongo/mongo_client.py:1740\u001b[0m, in \u001b[0;36mMongoClient._ensure_session\u001b[0;34m(self, session)\u001b[0m\n\u001b[1;32m   1735\u001b[0m     \u001b[39mreturn\u001b[39;00m session\n\u001b[1;32m   1737\u001b[0m \u001b[39mtry\u001b[39;00m:\n\u001b[1;32m   1738\u001b[0m     \u001b[39m# Don't make implicit sessions causally consistent. Applications\u001b[39;00m\n\u001b[1;32m   1739\u001b[0m     \u001b[39m# should always opt-in.\u001b[39;00m\n\u001b[0;32m-> 1740\u001b[0m     \u001b[39mreturn\u001b[39;00m \u001b[39mself\u001b[39m\u001b[39m.\u001b[39m__start_session(\u001b[39mTrue\u001b[39;00m, causal_consistency\u001b[39m=\u001b[39m\u001b[39mFalse\u001b[39;00m)\n\u001b[1;32m   1741\u001b[0m \u001b[39mexcept\u001b[39;00m (ConfigurationError, InvalidOperation):\n\u001b[1;32m   1742\u001b[0m     \u001b[39m# Sessions not supported.\u001b[39;00m\n\u001b[1;32m   1743\u001b[0m     \u001b[39mreturn\u001b[39;00m \u001b[39mNone\u001b[39;00m\n",
      "File \u001b[0;32m~/miniconda3/envs/scrapyenv/lib/python3.11/site-packages/pymongo/mongo_client.py:1685\u001b[0m, in \u001b[0;36mMongoClient.__start_session\u001b[0;34m(self, implicit, **kwargs)\u001b[0m\n\u001b[1;32m   1682\u001b[0m \u001b[39mdef\u001b[39;00m \u001b[39m__start_session\u001b[39m(\u001b[39mself\u001b[39m, implicit, \u001b[39m*\u001b[39m\u001b[39m*\u001b[39mkwargs):\n\u001b[1;32m   1683\u001b[0m     \u001b[39m# Raises ConfigurationError if sessions are not supported.\u001b[39;00m\n\u001b[1;32m   1684\u001b[0m     \u001b[39mif\u001b[39;00m implicit:\n\u001b[0;32m-> 1685\u001b[0m         \u001b[39mself\u001b[39m\u001b[39m.\u001b[39m_topology\u001b[39m.\u001b[39m_check_implicit_session_support()\n\u001b[1;32m   1686\u001b[0m         server_session \u001b[39m=\u001b[39m _EmptyServerSession()\n\u001b[1;32m   1687\u001b[0m     \u001b[39melse\u001b[39;00m:\n",
      "File \u001b[0;32m~/miniconda3/envs/scrapyenv/lib/python3.11/site-packages/pymongo/topology.py:538\u001b[0m, in \u001b[0;36mTopology._check_implicit_session_support\u001b[0;34m(self)\u001b[0m\n\u001b[1;32m    536\u001b[0m \u001b[39mdef\u001b[39;00m \u001b[39m_check_implicit_session_support\u001b[39m(\u001b[39mself\u001b[39m):\n\u001b[1;32m    537\u001b[0m     \u001b[39mwith\u001b[39;00m \u001b[39mself\u001b[39m\u001b[39m.\u001b[39m_lock:\n\u001b[0;32m--> 538\u001b[0m         \u001b[39mself\u001b[39m\u001b[39m.\u001b[39m_check_session_support()\n",
      "File \u001b[0;32m~/miniconda3/envs/scrapyenv/lib/python3.11/site-packages/pymongo/topology.py:554\u001b[0m, in \u001b[0;36mTopology._check_session_support\u001b[0;34m(self)\u001b[0m\n\u001b[1;32m    550\u001b[0m         \u001b[39mself\u001b[39m\u001b[39m.\u001b[39m_select_servers_loop(\n\u001b[1;32m    551\u001b[0m             any_server_selector, \u001b[39mself\u001b[39m\u001b[39m.\u001b[39mget_server_selection_timeout(), \u001b[39mNone\u001b[39;00m\n\u001b[1;32m    552\u001b[0m         )\n\u001b[1;32m    553\u001b[0m \u001b[39melif\u001b[39;00m \u001b[39mnot\u001b[39;00m \u001b[39mself\u001b[39m\u001b[39m.\u001b[39m_description\u001b[39m.\u001b[39mreadable_servers:\n\u001b[0;32m--> 554\u001b[0m     \u001b[39mself\u001b[39m\u001b[39m.\u001b[39m_select_servers_loop(\n\u001b[1;32m    555\u001b[0m         readable_server_selector, \u001b[39mself\u001b[39m\u001b[39m.\u001b[39mget_server_selection_timeout(), \u001b[39mNone\u001b[39;00m\n\u001b[1;32m    556\u001b[0m     )\n\u001b[1;32m    558\u001b[0m session_timeout \u001b[39m=\u001b[39m \u001b[39mself\u001b[39m\u001b[39m.\u001b[39m_description\u001b[39m.\u001b[39mlogical_session_timeout_minutes\n\u001b[1;32m    559\u001b[0m \u001b[39mif\u001b[39;00m session_timeout \u001b[39mis\u001b[39;00m \u001b[39mNone\u001b[39;00m:\n",
      "File \u001b[0;32m~/miniconda3/envs/scrapyenv/lib/python3.11/site-packages/pymongo/topology.py:238\u001b[0m, in \u001b[0;36mTopology._select_servers_loop\u001b[0;34m(self, selector, timeout, address)\u001b[0m\n\u001b[1;32m    235\u001b[0m \u001b[39mwhile\u001b[39;00m \u001b[39mnot\u001b[39;00m server_descriptions:\n\u001b[1;32m    236\u001b[0m     \u001b[39m# No suitable servers.\u001b[39;00m\n\u001b[1;32m    237\u001b[0m     \u001b[39mif\u001b[39;00m timeout \u001b[39m==\u001b[39m \u001b[39m0\u001b[39m \u001b[39mor\u001b[39;00m now \u001b[39m>\u001b[39m end_time:\n\u001b[0;32m--> 238\u001b[0m         \u001b[39mraise\u001b[39;00m ServerSelectionTimeoutError(\n\u001b[1;32m    239\u001b[0m             \u001b[39m\"\u001b[39m\u001b[39m%s\u001b[39;00m\u001b[39m, Timeout: \u001b[39m\u001b[39m%s\u001b[39;00m\u001b[39ms, Topology Description: \u001b[39m\u001b[39m%r\u001b[39;00m\u001b[39m\"\u001b[39m\n\u001b[1;32m    240\u001b[0m             \u001b[39m%\u001b[39m (\u001b[39mself\u001b[39m\u001b[39m.\u001b[39m_error_message(selector), timeout, \u001b[39mself\u001b[39m\u001b[39m.\u001b[39mdescription)\n\u001b[1;32m    241\u001b[0m         )\n\u001b[1;32m    243\u001b[0m     \u001b[39mself\u001b[39m\u001b[39m.\u001b[39m_ensure_opened()\n\u001b[1;32m    244\u001b[0m     \u001b[39mself\u001b[39m\u001b[39m.\u001b[39m_request_check_all()\n",
      "\u001b[0;31mServerSelectionTimeoutError\u001b[0m: localhost:27017: [Errno 111] Connection refused, Timeout: 30s, Topology Description: <TopologyDescription id: 643ead6bbe9f29507db31195, topology_type: Unknown, servers: [<ServerDescription ('localhost', 27017) server_type: Unknown, rtt: None, error=AutoReconnect('localhost:27017: [Errno 111] Connection refused')>]>"
     ]
    }
   ],
   "source": [
    "# Quels sont les 5 films les mieux notés ?\n",
    "\n",
    "top_movies = movies.find().sort([(\"imdb.score\", pymongo.DESCENDING)]).limit(5)\n",
    "\n",
    "# imprimer les titres des 5 films les mieux notés\n",
    "\n",
    "for movie in top_movies:\n",
    "    print(movie[\"title\"])\n"
   ]
  },
  {
   "cell_type": "code",
   "execution_count": null,
   "metadata": {},
   "outputs": [],
   "source": [
    "# Dans combien de films a joué Morgan Freeman ? Tom Cruise ?\n",
    "# Quels sont les 3 meilleurs films d’horreur ? Dramatique ? Comique ?\n",
    "# Parmi les 100 films les mieux notés, quel pourcentage sont américains ? Français ?\n",
    "# Quel est la durée moyenne d’un film en fonction du genre ?"
   ]
  }
 ],
 "metadata": {
  "kernelspec": {
   "display_name": "scrapyenv",
   "language": "python",
   "name": "python3"
  },
  "language_info": {
   "codemirror_mode": {
    "name": "ipython",
    "version": 3
   },
   "file_extension": ".py",
   "mimetype": "text/x-python",
   "name": "python",
   "nbconvert_exporter": "python",
   "pygments_lexer": "ipython3",
   "version": "3.11.2"
  },
  "orig_nbformat": 4,
  "vscode": {
   "interpreter": {
    "hash": "c7f02c0e4137dc0dec0aff610cd1e8e537a7a1745eb165cc34c93f96c683ed64"
   }
  }
 },
 "nbformat": 4,
 "nbformat_minor": 2
}
